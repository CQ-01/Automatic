{
 "cells": [
  {
   "cell_type": "code",
   "execution_count": 1,
   "id": "f1358e47-2c82-48a8-89d4-be415883481c",
   "metadata": {},
   "outputs": [],
   "source": [
    "import pyautogui as auto\n",
    "import time\n",
    "import keyboard\n",
    "from PIL import ImageGrab"
   ]
  },
  {
   "cell_type": "code",
   "execution_count": 39,
   "id": "4cbd86d3-ed63-4378-aa30-c3e1c9acf472",
   "metadata": {},
   "outputs": [
    {
     "name": "stdout",
     "output_type": "stream",
     "text": [
      "Point(x=634, y=19)\n",
      "(192, 195, 200)\n",
      "Point(x=376, y=285)\n",
      "(255, 255, 255)\n",
      "Point(x=1776, y=331)\n",
      "(255, 255, 255)\n",
      "Point(x=1776, y=331)\n",
      "(255, 255, 255)\n"
     ]
    }
   ],
   "source": [
    "## 위치 뽑기\n",
    "pos_list = []\n",
    "SB = 0\n",
    "while True:\n",
    "    while True:\n",
    "        if keyboard.is_pressed('F2'):  # F2키로 현재 위치 출력\n",
    "            pos = auto.position()\n",
    "            print(pos)\n",
    "            pos_list.append(pos)\n",
    "            screen = ImageGrab.grab()\n",
    "            pos = auto.position()\n",
    "            print(screen.getpixel(pos))\n",
    "            break\n",
    "        elif keyboard.is_pressed('F4'):  # F4키로 종료\n",
    "            SB += 1\n",
    "            break\n",
    "    while True:\n",
    "        if keyboard.is_pressed('F3'):  # F3키로 초기화\n",
    "            break\n",
    "        elif keyboard.is_pressed('F4'):  # F4키로 종료\n",
    "            SB =+ 1\n",
    "            break\n",
    "    if SB > 0:\n",
    "        break"
   ]
  },
  {
   "cell_type": "code",
   "execution_count": 3,
   "id": "d5faa33b-1266-4cee-84b8-3ca91a90edec",
   "metadata": {},
   "outputs": [
    {
     "data": {
      "text/plain": [
       "(23, 12, 82)"
      ]
     },
     "execution_count": 3,
     "metadata": {},
     "output_type": "execute_result"
    }
   ],
   "source": [
    "from PIL import ImageGrab\n",
    "screen = ImageGrab.grab()\n",
    "pos = auto.position()\n",
    "screen.getpixel(pos)"
   ]
  },
  {
   "cell_type": "code",
   "execution_count": 6,
   "id": "c9cc5ac2-63cd-4710-abe4-e304c346764c",
   "metadata": {},
   "outputs": [],
   "source": [
    "img = ImageGrab.grab()\n",
    "img.save(\"c:/Users/jhkjf/screen/image.png\", \"png\")"
   ]
  },
  {
   "cell_type": "code",
   "execution_count": 46,
   "id": "75a385d6-44e8-4650-ac4b-0280af25e1f9",
   "metadata": {},
   "outputs": [
    {
     "name": "stdin",
     "output_type": "stream",
     "text": [
      "검색어 :  toe\n"
     ]
    }
   ],
   "source": [
    "search_word = input(\"검색어 : \")\n",
    "auto.click(pos_list[0])  # '+' 새창 버튼 누름\n",
    "time.sleep(0.5)\n",
    "auto.typewrite(search_word)  # 검색어 입력\n",
    "keyboard.press('enter')  # 검색\n",
    "time.sleep(1)\n",
    "auto.click(pos_list[1])  # 이미지 클릭\n",
    "time.sleep(1.5)\n",
    "keyboard.press('down')  # 아래로 내림\n",
    "time.sleep(0.5)\n",
    "img = ImageGrab.grab()  # 이미지 캡쳐\n",
    "img.save(f'c:/Users/jhkjf/screen/{search_word}.png')"
   ]
  },
  {
   "cell_type": "code",
   "execution_count": 49,
   "id": "c3e7b738-6383-4a24-85ac-71d229da8e9e",
   "metadata": {},
   "outputs": [
    {
     "name": "stdin",
     "output_type": "stream",
     "text": [
      "검색어 :  hello\n"
     ]
    }
   ],
   "source": [
    "# 전체 화면으로 저장하기\n",
    "search_word = input(\"검색어 : \")\n",
    "auto.click(pos_list[0])  # '+' 새창 버튼 누름\n",
    "time.sleep(0.5)\n",
    "auto.typewrite(search_word)  # 검색어 입력\n",
    "keyboard.press('enter')  # 검색\n",
    "time.sleep(1)\n",
    "auto.click(pos_list[1])  # 이미지 클릭\n",
    "time.sleep(1)\n",
    "keyboard.press(['f12', 'f12'])\n",
    "time.sleep(1)\n",
    "auto.hotkey('ctrl', 'shift', 'p')\n",
    "time.sleep(1)\n",
    "auto.typewrite('capture')\n",
    "time.sleep(0.5)\n",
    "auto.click(pos_list[2])"
   ]
  }
 ],
 "metadata": {
  "kernelspec": {
   "display_name": "Python 3 (ipykernel)",
   "language": "python",
   "name": "python3"
  },
  "language_info": {
   "codemirror_mode": {
    "name": "ipython",
    "version": 3
   },
   "file_extension": ".py",
   "mimetype": "text/x-python",
   "name": "python",
   "nbconvert_exporter": "python",
   "pygments_lexer": "ipython3",
   "version": "3.10.9"
  }
 },
 "nbformat": 4,
 "nbformat_minor": 5
}
