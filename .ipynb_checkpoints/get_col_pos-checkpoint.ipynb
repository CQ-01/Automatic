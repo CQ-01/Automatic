{
 "cells": [
  {
   "cell_type": "code",
   "execution_count": 1,
   "id": "f1358e47-2c82-48a8-89d4-be415883481c",
   "metadata": {},
   "outputs": [],
   "source": [
    "import pyautogui as auto\n",
    "import time\n",
    "import keyboard"
   ]
  },
  {
   "cell_type": "code",
   "execution_count": 9,
   "id": "4cbd86d3-ed63-4378-aa30-c3e1c9acf472",
   "metadata": {},
   "outputs": [
    {
     "name": "stdout",
     "output_type": "stream",
     "text": [
      "Point(x=1025, y=1049)\n",
      "(228, 230, 235)\n",
      "Point(x=926, y=905)\n",
      "(210, 205, 204)\n",
      "Point(x=830, y=532)\n",
      "(255, 255, 255)\n",
      "Point(x=513, y=282)\n",
      "(255, 255, 255)\n"
     ]
    }
   ],
   "source": [
    "## 위치 뽑기\n",
    "pos_list = []\n",
    "SB = 0\n",
    "while True:\n",
    "    while True:\n",
    "        if keyboard.is_pressed('F2'):  # F2키로 현재 위치 출력\n",
    "            pos = auto.position()\n",
    "            print(pos)\n",
    "            pos_list.append(pos)\n",
    "            screen = ImageGrab.grab()\n",
    "            pos = auto.position()\n",
    "            print(screen.getpixel(pos))\n",
    "            break\n",
    "        elif keyboard.is_pressed('F4'):  # F4키로 종료\n",
    "            SB += 1\n",
    "            break\n",
    "    while True:\n",
    "        if keyboard.is_pressed('F3'):  # F3키로 초기화\n",
    "            break\n",
    "        elif keyboard.is_pressed('F4'):  # F4키로 종료\n",
    "            SB =+ 1\n",
    "            break\n",
    "    if SB > 0:\n",
    "        break"
   ]
  },
  {
   "cell_type": "code",
   "execution_count": 3,
   "id": "d5faa33b-1266-4cee-84b8-3ca91a90edec",
   "metadata": {},
   "outputs": [
    {
     "data": {
      "text/plain": [
       "(23, 12, 82)"
      ]
     },
     "execution_count": 3,
     "metadata": {},
     "output_type": "execute_result"
    }
   ],
   "source": [
    "from PIL import ImageGrab\n",
    "screen = ImageGrab.grab()\n",
    "pos = auto.position()\n",
    "screen.getpixel(pos)"
   ]
  },
  {
   "cell_type": "code",
   "execution_count": 7,
   "id": "ddec35ef-1140-4f75-9ae1-7b0a7881b462",
   "metadata": {},
   "outputs": [
    {
     "ename": "IndexError",
     "evalue": "list index out of range",
     "output_type": "error",
     "traceback": [
      "\u001b[1;31m---------------------------------------------------------------------------\u001b[0m",
      "\u001b[1;31mIndexError\u001b[0m                                Traceback (most recent call last)",
      "Cell \u001b[1;32mIn[7], line 5\u001b[0m\n\u001b[0;32m      3\u001b[0m auto\u001b[38;5;241m.\u001b[39mclick(pos_list[\u001b[38;5;241m1\u001b[39m])\n\u001b[0;32m      4\u001b[0m time\u001b[38;5;241m.\u001b[39msleep(\u001b[38;5;241m0.3\u001b[39m)\n\u001b[1;32m----> 5\u001b[0m auto\u001b[38;5;241m.\u001b[39mclick(\u001b[43mpos_list\u001b[49m\u001b[43m[\u001b[49m\u001b[38;5;241;43m2\u001b[39;49m\u001b[43m]\u001b[49m)\n\u001b[0;32m      6\u001b[0m time\u001b[38;5;241m.\u001b[39msleep(\u001b[38;5;241m0.5\u001b[39m)\n\u001b[0;32m      7\u001b[0m auto\u001b[38;5;241m.\u001b[39mclick(pos_list[\u001b[38;5;241m3\u001b[39m])\n",
      "\u001b[1;31mIndexError\u001b[0m: list index out of range"
     ]
    }
   ],
   "source": [
    "auto.rightClick(pos_list[0])\n",
    "time.sleep(0.3)\n",
    "auto.click(pos_list[1])\n",
    "time.sleep(0.3)\n",
    "auto.click(pos_list[2])\n",
    "time.sleep(0.5)\n",
    "auto.click(pos_list[3])"
   ]
  },
  {
   "cell_type": "code",
   "execution_count": 6,
   "id": "c9cc5ac2-63cd-4710-abe4-e304c346764c",
   "metadata": {},
   "outputs": [],
   "source": [
    "img = ImageGrab.grab()\n",
    "img.save(\"c:/Users/jhkjf/screen/image.png\", \"png\")"
   ]
  },
  {
   "cell_type": "code",
   "execution_count": 13,
   "id": "75a385d6-44e8-4650-ac4b-0280af25e1f9",
   "metadata": {},
   "outputs": [
    {
     "name": "stdin",
     "output_type": "stream",
     "text": [
      "검색어 :  djkf\n"
     ]
    }
   ],
   "source": [
    "search_word = input(\"검색어 : \")\n",
    "auto.rightClick(pos_list[0])\n",
    "time.sleep(0.3)\n",
    "auto.click(pos_list[1])\n",
    "time.sleep(0.3)\n",
    "auto.typewrite(search_word)\n",
    "auto.click(pos_list[2])\n",
    "time.sleep(0.3)\n",
    "img = ImageGrab.grab()\n",
    "img.save(f'c:/Users/jhkjf/screen/{search_word}.png')"
   ]
  },
  {
   "cell_type": "code",
   "execution_count": 15,
   "id": "c3e7b738-6383-4a24-85ac-71d229da8e9e",
   "metadata": {},
   "outputs": [],
   "source": [
    "auto.rightClick(pos_list[0])\n"
   ]
  }
 ],
 "metadata": {
  "kernelspec": {
   "display_name": "Python 3 (ipykernel)",
   "language": "python",
   "name": "python3"
  },
  "language_info": {
   "codemirror_mode": {
    "name": "ipython",
    "version": 3
   },
   "file_extension": ".py",
   "mimetype": "text/x-python",
   "name": "python",
   "nbconvert_exporter": "python",
   "pygments_lexer": "ipython3",
   "version": "3.10.9"
  }
 },
 "nbformat": 4,
 "nbformat_minor": 5
}
